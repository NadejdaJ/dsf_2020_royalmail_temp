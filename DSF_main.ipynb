{
 "cells": [
  {
   "cell_type": "markdown",
   "metadata": {},
   "source": [
    "# Data Science Festival 2020\n",
    "## Going postal: How to craft a cutting-edge route optimisation engine in-house that suits your business needs\n",
    "\n",
    "Fabrice Durier - fabrice.durier@royalmail.com \n",
    "\n",
    "Hugo Galy - hugo.galy@royalmail.com\n",
    "\n",
    "Louisa Sober - louisa.sober@royalmail.com\n"
   ]
  },
  {
   "cell_type": "markdown",
   "metadata": {},
   "source": [
    "## Background Information"
   ]
  },
  {
   "attachments": {
    "postcode_struc.png": {
     "image/png": "[encoded data removed]"
    }
   },
   "cell_type": "markdown",
   "metadata": {},
   "source": [
    "Structure of a postcode EH12 9DN:\n",
    "![postcode_struc.png](attachment:postcode_struc.png)\n",
    "\n",
    "Info on what a delivery office does"
   ]
  },
  {
   "cell_type": "markdown",
   "metadata": {},
   "source": [
    "## Imports"
   ]
  },
  {
   "cell_type": "code",
   "execution_count": null,
   "metadata": {},
   "outputs": [],
   "source": [
    "import pandas as pd\n",
    "import numpy as np\n",
    "import folium as f\n",
    "from folium.features import DivIcon, Choropleth"
   ]
  },
  {
   "cell_type": "markdown",
   "metadata": {},
   "source": [
    "## Import data"
   ]
  },
  {
   "cell_type": "code",
   "execution_count": null,
   "metadata": {},
   "outputs": [],
   "source": [
    "%pwd\n",
    "parcels_df = pd.read_csv(\"data/EDINBURGH/sample_143/143_parcels.csv\", index_col=0)\n",
    "dist_df = pd.read_csv(\"data/EDINBURGH/sample_143/143_matrix_distance.csv\", index_col=0)\n",
    "time_df = pd.read_csv(\"data/EDINBURGH/sample_143/143_matrix_time.csv\", index_col=0)\n",
    "depot_df = parcels_df.loc[0,:]"
   ]
  },
  {
   "cell_type": "code",
   "execution_count": null,
   "metadata": {},
   "outputs": [],
   "source": [
    "print(\"Postcodes dataframe\")\n",
    "display(parcels_df.head())\n",
    "print(\"\\n Time dataframe (min)\")\n",
    "display(time_df.head())\n",
    "print(\"\\n Distance dataframe (Km)\")\n",
    "display(dist_df.head())"
   ]
  },
  {
   "cell_type": "markdown",
   "metadata": {},
   "source": [
    "## Initial Exploration"
   ]
  },
  {
   "cell_type": "markdown",
   "metadata": {},
   "source": [
    "* stats of the dist and time matrices\n",
    "* how many parcels, stops\n",
    "* hub info"
   ]
  },
  {
   "cell_type": "code",
   "execution_count": null,
   "metadata": {},
   "outputs": [],
   "source": [
    "num_parcels = len(parcels_df.id)\n",
    "num_stops = len(parcels_df.postcode.unique())\n",
    "num_parcels, num_pcs"
   ]
  },
  {
   "cell_type": "markdown",
   "metadata": {},
   "source": [
    "## Visulatisation"
   ]
  },
  {
   "cell_type": "code",
   "execution_count": null,
   "metadata": {},
   "outputs": [],
   "source": []
  },
  {
   "cell_type": "code",
   "execution_count": null,
   "metadata": {},
   "outputs": [],
   "source": [
    "init_map"
   ]
  },
  {
   "cell_type": "code",
   "execution_count": null,
   "metadata": {},
   "outputs": [],
   "source": []
  }
 ],
 "metadata": {
  "kernelspec": {
   "display_name": "Python 3",
   "language": "python",
   "name": "python3"
  },
  "language_info": {
   "codemirror_mode": {
    "name": "ipython",
    "version": 3
   },
   "file_extension": ".py",
   "mimetype": "text/x-python",
   "name": "python",
   "nbconvert_exporter": "python",
   "pygments_lexer": "ipython3",
   "version": "3.7.4"
  }
 },
 "nbformat": 4,
 "nbformat_minor": 2
}
